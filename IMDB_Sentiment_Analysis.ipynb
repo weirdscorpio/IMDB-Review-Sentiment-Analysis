{
  "nbformat": 4,
  "nbformat_minor": 0,
  "metadata": {
    "colab": {
      "name": "IMDB Sentiment Analysis Small",
      "provenance": []
    },
    "kernelspec": {
      "name": "python3",
      "display_name": "Python 3"
    }
  },
  "cells": [
    {
      "cell_type": "code",
      "metadata": {
        "id": "4Mrzvu9inkH6"
      },
      "source": [
        "import numpy as np\n",
        "import pandas as pd\n",
        "import tensorflow\n",
        "from tensorflow import keras\n",
        "from keras.models import Sequential\n",
        "from keras.layers import Bidirectional, Embedding, LSTM, Dense\n",
        "from keras.preprocessing.text import Tokenizer\n",
        "from keras.preprocessing.sequence import pad_sequences"
      ],
      "execution_count": null,
      "outputs": []
    },
    {
      "cell_type": "code",
      "metadata": {
        "id": "xdXU1VzfoDe1"
      },
      "source": [
        "f = open(\"/content/imdb_labelled.txt\", \"r\")\n",
        "data = []\n",
        "label = []\n",
        "MAX_LENGTH = 10\n",
        "for d in f.readlines():\n",
        "    arr = d.split(\"  \t\")\n",
        "    data.append(arr[0])\n",
        "    label.append(arr[1])"
      ],
      "execution_count": null,
      "outputs": []
    },
    {
      "cell_type": "code",
      "metadata": {
        "id": "VOR5GHU4obc9",
        "outputId": "22426a9b-9d0b-48f3-c0e0-ea5586c73901",
        "colab": {
          "base_uri": "https://localhost:8080/",
          "height": 34
        }
      },
      "source": [
        "tokenize = Tokenizer(oov_token=\"<OOV>\")\n",
        "tokenize.fit_on_texts(data)\n",
        "word_index = tokenize.word_index\n",
        "train = tokenize.texts_to_sequences(data)\n",
        "data = pad_sequences(train, padding=\"post\")\n",
        "maxlen = data.shape[1]\n",
        "print(maxlen)"
      ],
      "execution_count": null,
      "outputs": [
        {
          "output_type": "stream",
          "text": [
            "73\n"
          ],
          "name": "stdout"
        }
      ]
    },
    {
      "cell_type": "code",
      "metadata": {
        "id": "B8YHWuWD0jey"
      },
      "source": [
        "label = np.array(label, dtype ='float64')"
      ],
      "execution_count": null,
      "outputs": []
    },
    {
      "cell_type": "code",
      "metadata": {
        "id": "RJH2jK1QpqgZ"
      },
      "source": [
        "vocab_size = len(word_index) + 1\n",
        "\n",
        "model = Sequential()\n",
        "model.add(Embedding(vocab_size, 32))\n",
        "model.add(Bidirectional(LSTM(128, return_sequences=True)))\n",
        "model.add(Bidirectional(LSTM(64)))\n",
        "model.add(Dense(1, activation=\"sigmoid\"))"
      ],
      "execution_count": null,
      "outputs": []
    },
    {
      "cell_type": "code",
      "metadata": {
        "id": "8zUFcNdTp8cb",
        "outputId": "7d54771d-20fc-4bb4-a2c7-baee5da29cf0",
        "colab": {
          "base_uri": "https://localhost:8080/",
          "height": 521
        }
      },
      "source": [
        "model.compile(loss = \"binary_crossentropy\", optimizer=\"adam\", metrics=['accuracy'])\n",
        "history = model.fit(data, label, epochs=15)"
      ],
      "execution_count": null,
      "outputs": [
        {
          "output_type": "stream",
          "text": [
            "Epoch 1/15\n",
            "32/32 [==============================] - 8s 250ms/step - loss: 0.6920 - accuracy: 0.5150\n",
            "Epoch 2/15\n",
            "32/32 [==============================] - 8s 247ms/step - loss: 0.5119 - accuracy: 0.7760\n",
            "Epoch 3/15\n",
            "32/32 [==============================] - 8s 243ms/step - loss: 0.2049 - accuracy: 0.9290\n",
            "Epoch 4/15\n",
            "32/32 [==============================] - 8s 246ms/step - loss: 0.1244 - accuracy: 0.9590\n",
            "Epoch 5/15\n",
            "32/32 [==============================] - 8s 248ms/step - loss: 0.0692 - accuracy: 0.9730\n",
            "Epoch 6/15\n",
            "32/32 [==============================] - 8s 253ms/step - loss: 0.0277 - accuracy: 0.9950\n",
            "Epoch 7/15\n",
            "32/32 [==============================] - 8s 248ms/step - loss: 0.1119 - accuracy: 0.9690\n",
            "Epoch 8/15\n",
            "32/32 [==============================] - 8s 253ms/step - loss: 0.0260 - accuracy: 0.9950\n",
            "Epoch 9/15\n",
            "32/32 [==============================] - 8s 250ms/step - loss: 0.0607 - accuracy: 0.9810\n",
            "Epoch 10/15\n",
            "32/32 [==============================] - 8s 249ms/step - loss: 0.0765 - accuracy: 0.9810\n",
            "Epoch 11/15\n",
            "32/32 [==============================] - 8s 256ms/step - loss: 0.7255 - accuracy: 0.7730\n",
            "Epoch 12/15\n",
            "32/32 [==============================] - 8s 251ms/step - loss: 0.1758 - accuracy: 0.9420\n",
            "Epoch 13/15\n",
            "32/32 [==============================] - 8s 247ms/step - loss: 0.0763 - accuracy: 0.9800\n",
            "Epoch 14/15\n",
            "32/32 [==============================] - 8s 251ms/step - loss: 0.0698 - accuracy: 0.9770\n",
            "Epoch 15/15\n",
            "32/32 [==============================] - 8s 252ms/step - loss: 0.0605 - accuracy: 0.9820\n"
          ],
          "name": "stdout"
        }
      ]
    },
    {
      "cell_type": "code",
      "metadata": {
        "id": "nk-xJjkDs4Pu",
        "outputId": "cc91b688-27ea-457e-9d08-f937021b9fd8",
        "colab": {
          "base_uri": "https://localhost:8080/",
          "height": 84
        }
      },
      "source": [
        "seq = ['Amazingly bad', 'Wonderful','Could be better', 'Did not live up to the excitement']\n",
        "train = tokenize.texts_to_sequences(seq)\n",
        "d = pad_sequences(train, padding=\"post\",maxlen = maxlen)\n",
        "predict = model.predict_classes(d)\n",
        "for p in predict:\n",
        "  if p == 1:\n",
        "      print(\"Positive\")\n",
        "  else:\n",
        "      print(\"Negative\")"
      ],
      "execution_count": null,
      "outputs": [
        {
          "output_type": "stream",
          "text": [
            "Negative\n",
            "Positive\n",
            "Negative\n",
            "Negative\n"
          ],
          "name": "stdout"
        }
      ]
    }
  ]
}